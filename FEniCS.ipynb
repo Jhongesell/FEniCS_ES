{
 "metadata": {
  "name": "",
  "signature": "sha256:e1e13acc609e6c69086db7dc608cd5d734e5261cad585a21c6aacb109196d8a1"
 },
 "nbformat": 3,
 "nbformat_minor": 0,
 "worksheets": [
  {
   "cells": [
    {
     "cell_type": "heading",
     "level": 1,
     "metadata": {},
     "source": [
      "Fundamentos del software FEniCS"
     ]
    },
    {
     "cell_type": "raw",
     "metadata": {},
     "source": [
      "Francisco Jos\u00e9 Navarro Brull"
     ]
    },
    {
     "cell_type": "heading",
     "level": 2,
     "metadata": {},
     "source": [
      "Introducci\u00f3n"
     ]
    },
    {
     "cell_type": "markdown",
     "metadata": {},
     "source": [
      "[FEniCS](http://fenicsproject.org) es una herramienta libre, gratuita y f\u00e1cil de usar para la resoluci\u00f3n de ecuaciones en derivadas parciales (EDPs) o en ingl\u00e9s, *partial differential equations* (PDEs). FEniCS es un proyecto de colaboraci\u00f3n para el desarrollo de conceptos innovadores y herramientas para la computaci\u00f3n cient\u00edfica automatizada, con un enfoque particular en soluci\u00f3n automatizada de ecuaciones diferenciales por el m\u00e9todo de elementos finitos. \n",
      "\n",
      "La metodolog\u00eda y el software desarrollado como parte del proyecto FEniCS est\u00e1n documentados en una serie de [art\u00edculos de cient\u00edficos](http://fenicsproject.org/citing/index.html) y un [libro](http://fenicsproject.org/book/index.html). Este tutorial pretende ser un ejemplo de aplicaci\u00f3n dentro de la asignatura M\u00c9TODO DE ELEMENTOS FINITOS COMO M\u00c9TODO DE APROXIMACI\u00d3N APLICADO A PROBLEMAS DE INGENIER\u00cdA impartida por la profesora Yolanda Villacampa Esteve en la Universidad de Alicante."
     ]
    },
    {
     "cell_type": "heading",
     "level": 2,
     "metadata": {},
     "source": [
      "Objetivo"
     ]
    },
    {
     "cell_type": "markdown",
     "metadata": {},
     "source": [
      "Un buen punto de partida para los nuevos usuarios es el [Tutorial de FEniCS](http://fenicsproject.org/documentation/tutorial/index.html). Este documento recoger\u00e1 la pimera parte del mismo y se centrar\u00e1 exclusivamente en los fundamentos de FEniCS mediante su interfaz Python, ya que este es el m\u00e9todo m\u00e1s sencillo para explorar FEniCS para principiantes. El objetivo del tutorial (completo) es una ayuda para empezar con FEniCS a trav\u00e9s de una serie de ejemplos sencillos que dan informaci\u00f3n sobre c\u00f3mo: \n",
      "\n",
      "+ definir el problema de la EDP en t\u00e9rminos de un problema variacional; \n",
      "+ definir dominios simples; \n",
      "+ utilizar condiciones tipo Dirichlet, Neumann y Robin; \n",
      "+ tratar con coeficientes variables; \n",
      "+ hacer frente a los dominios construidos de diversos materiales (subdominios), \n",
      "+ calcular magnitudes derivadas como el campo vectorial de flujo o un funcional de la soluci\u00f3n, \n",
      "+ visualizar r\u00e1pidamente la malla, la soluci\u00f3n, el flujo, etc;\n",
      "+ resolver EDPs no lineales en diversas formas; \n",
      "+ hacer frente a EDPs dependientes del tiempo;\n",
      "+ ajustar los par\u00e1metros que rigen los m\u00e9todos de soluci\u00f3n de sistemas lineales; \n",
      "+ crear dominios de forma m\u00e1s compleja.\n",
      "\n",
      "Las matem\u00e1ticas de los ejemplos se mantendr\u00e1n simples para centrarse mejor en la funcionalidad de [FEniCS](http://fenicsproject.org) y su sintaxis. Esto significa que principalmente se utilizar\u00e1 la ecuaci\u00f3n de Poisson y la ecuaci\u00f3n de difusi\u00f3n dependiente del tiempo como problemas modelo, a menudo con datos de entrada ajustados de tal manera que se obtiene una soluci\u00f3n muy sencilla que se puede reproducir exactamente por cualquier m\u00e9todo de elementos finitos est\u00e1ndar sobre una malla uniforme estructurada. Esta \u00faltima propiedad simplifica en gran medida la verificaci\u00f3n de las implementaciones. De vez en cuando se utilizar\u00e1n ejemplos f\u00edsicamente m\u00e1s relevantes para recordar al lector que el cambio de la EDP y condiciones de contorno a algo m\u00e1s real a menudo puede ser una tarea trivial.\n",
      "\n",
      "FEniCS puede dar la sensaci\u00f3n de requerir un conocimiento profundo de la matem\u00e1tica abstracta del m\u00e9todo de los elementos finitos, as\u00ed como familiaridad con el lenguaje de programaci\u00f3n Python. Sin embargo, resulta que muchos lectores son capaces de adquirir los fundamentos de elementos finitos y de programaci\u00f3n Python, ya que ir junto con este tutorial. Simplemente sigue leyendo y prueba los ejemplos. \u00a1Te sorprender\u00e1 lo f\u00e1cil que es resolver EDPs con FEniCS!\n",
      "\n",
      "Todos los ejemplos analizados en el siguiente est\u00e1n disponibles como archivos de c\u00f3digo fuente de Python ejecutable en un \u00e1rbol de directorios. El material de este tutorial es principalmente una traducci\u00f3n en espa\u00f1ol de la informaci\u00f3n recogida en su p\u00e1gina web [FEniCS](http://fenicsproject.org/documentation/tutorial/fundamentals.html) en su versi\u00f3n 1.4.\n"
     ]
    },
    {
     "cell_type": "heading",
     "level": 2,
     "metadata": {},
     "source": [
      "Instalaci\u00f3n"
     ]
    },
    {
     "cell_type": "markdown",
     "metadata": {},
     "source": [
      "Para realizar los ejercicios de este tutorial se requiere acceso a un equipo en el que est\u00e9 instalado el software FEniCS. La secci\u00f3n [Instalaci\u00f3n FEniCS](http://fenicsproject.org/documentation/tutorial/misc.html#tut-app-install) explica brevemente c\u00f3mo instalar las herramientas necesarias. En Windows, FEniCS no se mantiene acutualizado a la \u00faltima versi\u00f3n por lo que se recomienda instalar [Ubuntu 12.04 LTS](http://releases.ubuntu.com/12.04/) en una m\u00e1quina virtual como [VirtualBox](https://www.virtualbox.org/). "
     ]
    },
    {
     "cell_type": "heading",
     "level": 2,
     "metadata": {},
     "source": [
      "La ecuaci\u00f3n de Poisson"
     ]
    },
    {
     "cell_type": "markdown",
     "metadata": {},
     "source": [
      "El primer ejemplo se referir\u00e1 al problema de Poisson:\n",
      "    $$\\begin{split}- \\nabla^2 u(\\pmb{x}) &= f(\\pmb{x}),\\quad \\pmb{x}\\mbox{ in } \\Omega,\n",
      "\\\\\n",
      "u(\\pmb{x}) &= u_0(\\pmb{x}),\\quad \\pmb{x}\\mbox{ on } \\partial \\Omega\\thinspace .\\end{split}$$"
     ]
    },
    {
     "cell_type": "markdown",
     "metadata": {},
     "source": [
      "Donde, $u(\\pmb{x})$ es la funci\u00f3n desconocida, $f(\\pmb{x})$ es la funci\u00f3n preescrita o t\u00e9rmino fuente, $\\nabla^2$ es el operador de Laplace (tambien escrito en como $\\Delta$), $\\Omega$ es el dominio espacial, y $\\partial\\Omega$ es el contorno de $\\Omega$. Una EDP estacionaria como esta, junto con un conjunto completo de las condiciones de frontera, constituye un problema de valores en la frontera, que debe establecerse con precisi\u00f3n antes de comenzar a resolver con FEniCS.\n",
      "\n",
      "En dos dimensiones espaciales con coordenadas $x$ e $y$, podemos escribir la ecuaci\u00f3n de Poisson como:\n",
      "$$- {\\partial^2 u\\over\\partial x^2} -\n",
      "{\\partial^2 u\\over\\partial y^2} = f(x,y)\\thinspace .$$\n",
      "\n",
      "La inc\u00f3gnita $u$ es ahora una funci\u00f3n de dos vairiables $u(x,y)$, definida en un doominio bidimensional $\\Omega$."
     ]
    },
    {
     "cell_type": "markdown",
     "metadata": {},
     "source": [
      "La ecuaci\u00f3n de Poisson surge en numerosos contextos f\u00edsicos, incluyendo la conducci\u00f3n t\u00e9rmica, electrost\u00e1tica, difusi\u00f3n de sustancias, la torsi\u00f3n de barras el\u00e1sticas, el flujo de fluido no viscoso, y las ondas de agua. Por otra parte, la ecuaci\u00f3n aparece en las estrategias de divisi\u00f3n num\u00e9ricos de sistemas m\u00e1s complicados de las PDE, en particular, las ecuaciones de Navier-Stokes.\n",
      "\n",
      "La soluci\u00f3n de un problema f\u00edsico con FENICS consta de los siguientes pasos:\n",
      "\n",
      "1. Identificar la EDP y sus condiciones de contorno.\n",
      "2. Reformular el problema EDP como un problema variacional.\n",
      "3. Hacer un programa en Python donde se codifican las f\u00f3rmulas del problema variacional, junto con las definiciones de los datos de entrada, tales como $f$, $u_0$, y una malla para el dominio espacial $\\Omega$.\n",
      "4. Agregar instrucciones al programa para resolver el problema variacional, computando cantidades derivadas como $\\nabla u$, y la visualizaci\u00f3n de los resultados.\n",
      "\n",
      "\n",
      "Ahora vayamos m\u00e1s en detalle para los pasos 2-4 en detalle. La caracter\u00edstica clave de FEniCS es que los pasos 3 y 4 resultan en c\u00f3digo bastante sencillo, mientras que la mayor\u00eda de otros software para las EDPs requieren mucho m\u00e1s c\u00f3digo y son t\u00e9cnicamente m\u00e1s dif\u00edciles de programar."
     ]
    },
    {
     "cell_type": "heading",
     "level": 2,
     "metadata": {},
     "source": [
      "Formulaci\u00f3n variacional"
     ]
    },
    {
     "cell_type": "markdown",
     "metadata": {},
     "source": [
      "FEniCS makes it easy to solve PDEs if finite elements are used for discretization in space and the problem is expressed as a variational problem. Readers who are not familiar with variational problems will get a brief introduction to the topic in this tutorial, but getting and reading a proper book on the finite element method in addition is encouraged. The section Books on the Finite Element Method contains a list of some suitable books.\n",
      "\n",
      "The core of the recipe for turning a PDE into a variational problem is to multiply the PDE by a function v, integrate the resulting equation over \u03a9, and perform integration by parts of terms with second-order derivatives. The function v which multiplies the PDE is in the mathematical finite element literature called a test function. The unknown function u to be approximated is referred to as a trial function. The terms test and trial function are used in FEniCS programs too. Suitable function spaces must be specified for the test and trial functions. For standard PDEs arising in physics and mechanics such spaces are well known.\n",
      "\n",
      "In the present case, we first multiply the Poisson equation by the test function v and integrate,\n",
      "\n",
      "FEniCS hace que sea f\u00e1cil resolver EDPs si los elementos finitos se utilizan para la discretizaci\u00f3n en el espacio y el problema se expresa como un problema variacional. Para los lectores que no est\u00e1n familiarizados con los problemas variacionales, se har\u00e1 una breve introducci\u00f3n al tema pero se anima a leer un libro adecuado del m\u00e9todo de elementos finitos.\n",
      "\n",
      "El paso clave del procseo para convertir una EDP en un problema variacional es multiplicar la EDP por una funci\u00f3n de $v$, integrar la ecuaci\u00f3n resultante sobre $\\Omega$, y llevar a cabo la integraci\u00f3n por partes de los t\u00e9rminos con derivadas de segundo orden. La funci\u00f3n $v$ que multiplica la EDP en la literatura de los elementos finitos se llama una funci\u00f3n de prueba (*test function*, en ingl\u00e9s). La funci\u00f3n desconocida $u$ llamada funci\u00f3n de aproximaci\u00f3n (*trial function*, en ingl\u00e9s). La t\u00e9rminos de *test* y funciones *trial* se utilizan en FEniCS tambi\u00e9n. Espacios funcionales adecuados se deben especificar para las funciones de *test* y de *trial*. Este tipo de espacios son bien conocidos para una EDP est\u00e1ndar que se plantean en la f\u00edsica y la mec\u00e1nica.\n",
      "\n",
      "Para este caso, lo primero que multiplicamos la ecuaci\u00f3n de Poisson de la *test function* $v$ e integramos:\n",
      "$$-\\int_\\Omega (\\nabla^2 u)v \\, \\mathrm{d}x = \\int_\\Omega fv \\, \\mathrm{d}x\\thinspace .$$\n",
      "\n",
      "Seguidamente integramos por partes el integrando con derivadas de segundo orden:\n",
      "$$-\\int_\\Omega (\\nabla^2 u)v \\, \\mathrm{d}x\n",
      "     = \\int_\\Omega\\nabla u\\cdot\\nabla v \\, \\mathrm{d}x - \\int_{\\partial\\Omega}{\\partial u\\over\n",
      "     \\partial n}v \\, \\mathrm{d}s ,$$\n",
      "     \n",
      "\n",
      "donde ${\\partial u\\over \\partial n}$ es la derivada de $u$ en la direcci\u00f3n normal hacia el exterior en contorno. Se requiere que la *test function* $v$ desaparezca en las partes del contorno donde $u$ es conocido, que en el presente problema implica que $v = 0$ en todo el contorno $\\partial\\Omega$. El segundo t\u00e9rmino del lado derecho de la \u00faltima ecuaci\u00f3n, por tanto, desaparece. De esto se deduce que \n",
      "\n",
      "$$\\int_{\\Omega} \\nabla u \\cdot \\nabla v \\, \\mathrm{d}x =\n",
      "       \\int_{\\Omega} fv \\, \\mathrm{d}x\n",
      "       \\quad .$$\n",
      "     \n",
      "Esta ecuaci\u00f3n se supone que debe mantener durante todo $v$ en alg\u00fan espacio la funci\u00f3n $\\hat{V}$. La *trial function* $u$ radica en algun (posiblemente diferente) espacio funcional $V$. Se suele decir que la \u00faltima ecuaci\u00f3n es la forma d\u00e9bil (*weak form*, en ingl\u00e9s) del problema de contorno original, que consiste en la EDP $-\\nabla^2u=f$ y la condici\u00f3n de contorno $u = u0$.\n",
      "\n",
      "La declaraci\u00f3n adecuada de nuestro problema variacional ahora sigue como: Encontrar $u \\in V$ tal que\n",
      "\n",
      "$$\\int_{\\Omega} \\nabla u \\cdot \\nabla v \\, \\mathrm{d}x =\n",
      "       \\int_{\\Omega} fv \\, \\mathrm{d}x\n",
      "       \\quad \\forall v \\in \\hat{V}.$$\n",
      "       \n",
      "Los espacios test y trial spaces $\\hat{V}$ and $V$ se definen en el problema como:\n",
      "$$\\begin{split}\\hat{V} &= \\{v \\in H^1(\\Omega) : v = 0 \\mbox{ on } \\partial\\Omega\\}, \\\\\n",
      " V      &= \\{v \\in H^1(\\Omega) : v = u_0 \\mbox{ on } \\partial\\Omega\\}\\thinspace .\\end{split}$$\n",
      " \n",
      "En resumen, $H^1 (\\Omega)$ es el bien conocido en matem\u00e1ticas espacio de Sobolev que contiene las funciones $v$ tal que $v^2$ y $||\\nabla v||^2$ tienen integrales finitas $\\Omega$. La soluci\u00f3n de la EDP subyacente debe estar en funci\u00f3n de un espacio donde tambi\u00e9n las derivadas son continuas, pero el espacio de Sobolev $H^1 (\\Omega)$ permite funciones con derivadas discontinuas. Este requisito de continuidad m\u00e1s d\u00e9bil de $u$ en la forma variacional, provocada por la integraci\u00f3n por partes, tiene grandes consecuencias pr\u00e1cticas cuando se trata de la construcci\u00f3n de los elementos finitos."
     ]
    },
    {
     "cell_type": "markdown",
     "metadata": {},
     "source": [
      "Para resolver la ecuaci\u00f3n de Poisson num\u00e9ricamente, necesitamos transformar el problema variacional continua a un problema variacional discreto. Esto se realiza mediante la introducci\u00f3n espacios (test y trial) de dimensi\u00f3n finita, a menudo denotadas como $\\hat{V}_h\\subset\\hat{V}$ y $V_h\\subset{V}$. El problema variacional discreto sige: Encuentra $u_h \\in V_h \\subset V$ tal que:\n",
      "\n",
      "$$\\int_{\\Omega} \\nabla u_h \\cdot \\nabla v \\, \\mathrm{d}x =\n",
      "       \\int_{\\Omega} fv \\, \\mathrm{d}x\n",
      "       \\quad \\forall v \\in \\hat{V}_h \\subset \\hat{V}\\thinspace .$$\n",
      "\n",
      "La elecci\u00f3n de $\\hat{V}_h$ y $V_h$ se desprende directamente de la clase de elementos finitos queremos aplicar en nuestro problema. Por ejemplo, la elecci\u00f3n del elemento triangular lineal conocida con tres nodos implica que $\\hat{V}_h$ y $V_h$  son los espacios de todas las funciones lineales a trozos de una malla de tri\u00e1ngulos, en donde las funciones en $\\hat{V}_h$ son cero en el contorno y en los $V_h$ igual $u_0$ en el contorno.\n",
      "\n",
      "En la literatura matem\u00e1tica de problemas variacionales se escribe $u_h$ para la soluci\u00f3n del problema discreto y $u$ para la soluci\u00f3n del problema continuo. Para obtener (casi) una relaci\u00f3n de uno a uno entre la formulaci\u00f3n matem\u00e1tica de un problema y el programa FEniCS correspondiente, vamos a utilizar $u$ para la soluci\u00f3n del problema discreto y el $u_e$ para la soluci\u00f3n exacta del problema continuo si queramos distinguir expl\u00edcitamente entre las dos. En la mayor\u00eda de los casos, vamos a presentar el problema de la EDP con $u$ como desconocido, derivar una ecuaci\u00f3n variacional a $(u, v) = L (v)$ con $u\\in V$ y $u\\in V$ y $v\\in \\hat V$, para luego simplemente discretizar el problema diciendo de elegir espacios de dimensi\u00f3n finita de $V$ y $\\hat V$. Esta restricci\u00f3n de $V$ implica que $u$ se convierte en una funci\u00f3n de elementos finitos discretos. En la pr\u00e1ctica, esto significa que nos volvemos nuestro problema EDP en un problema variacional continuo,creamos una malla y especificamos un tipo de elemento, y luego dejamos $V$ que corresponda a esta malla y la elecci\u00f3n elemento. Dependiendo de si $V$ es infinito o finito-dimensional, $u$ ser\u00e1 la soluci\u00f3n exacta o aproximada.\n",
      "\n",
      "Es conveniente introducir la siguiente notaci\u00f3n unificada para formas d\u00e9biles lineales:\n",
      "$$a(u, v) = L(v)\\thinspace .$$\n",
      "\n",
      "En el problema presente tenemos que:\n",
      "$$\\begin{split}a(u, v) &= \\int_{\\Omega} \\nabla u \\cdot \\nabla v \\, \\mathrm{d}x,\n",
      "\\\\\n",
      "L(v) &= \\int_{\\Omega} fv \\, \\mathrm{d}x\\thinspace .\\end{split}$$\n",
      "\n",
      "En la literatura matem\u00e1tica, $a (u, v)$ que se conoce como una forma bilineal y $L (V)$ como una forma lineal. Tendremos que, para cada problema lineal, resolver e identificar los t\u00e9rminos con la $u$ desconocida y recogerlas en $a(u, v)$, y de manera similar, recoger todos los t\u00e9rminos con funciones s\u00f3lo conocidos en L (v). Las f\u00f3rmulas para $a$ y $L$ son luego porgramadas directamente en el en FEniCS.\n",
      "\n",
      "En resumen, antes de hacer un programa FEniCS para resolver una EDP, se deben realizar dos pasos: \n",
      "\n",
      "1. Cambiar el problema de la EDP en un problema variacional discreto: encontrar $u \\in V$ tal que $a(u,v) = L(v)\\quad\\forall v\\in \\hat{V}$. \n",
      "2. Especificar la elecci\u00f3n de los espacios $V$ y $\\hat V$, lo que significa que la especificaci\u00f3n de la malla y tipo de elementos finitos."
     ]
    },
    {
     "cell_type": "markdown",
     "metadata": {},
     "source": [
      "## Implementaci\u00f3n"
     ]
    },
    {
     "cell_type": "markdown",
     "metadata": {},
     "source": [
      "El problema a resolver hasta el momento tiene un dominio $\\Omega$ general y funciones generales $u_0$ y $f$. Para nuestra primera aplicaci\u00f3n debemos decidir sobre las opciones espec\u00edficas de $\\Omega$, $u_0$ y $f$. Ser\u00e1 prudente escoger un problema espec\u00edfico en el que podemos comprobar f\u00e1cilmente que la soluci\u00f3n calculada es correcta. Comencemos con la especificaci\u00f3n de una soluci\u00f3n exacta:\n",
      "$$u_{\\rm e}(x, y) = 1 +x^2 + 2y^2$$\n",
      "en un dominio 2D. Mediante la inserci\u00f3n de la ecuaci\u00f3n anterior en nuestro problema de Poisson, encontramos que la $u_e (x, y)$ es una soluci\u00f3n si\n",
      "$$f(x,y) = -6,\\quad u_0(x,y)=u_{\\rm e}(x,y)=1 + x^2 + 2y^2,$$\n",
      "independientemente de la forma del dominio. Elegimos aqu\u00ed, para simplificar, el dominio que sea un cuadrado con longitud unidad\n",
      "$$\\Omega = [0,1]\\times [0,1] .$$\n",
      "\n",
      "la raz\u00f3n para especificar la ecuacio\u00f3n de la funci\u00f3n exacta $u_e$ escogida es que el m\u00e9todo de los elementos finitos, con un dominio rectangular dividido uniformemente en elementos triangulares lineales, reproducir\u00e1 exactamente un polinomio de segundo orden en los v\u00e9rtices de las c\u00e9lulas, independientemente del tama\u00f1o de los elementos. Esta propiedad nos permite verificar la ejecuci\u00f3n mediante la comparaci\u00f3n de la soluci\u00f3n computarizada, llamada $u$ en este documento (excepto cuando se configura el problema EDP), con la soluci\u00f3n exacta, denotado por $u_e: u$ debe ser igual a $u$ en precisi\u00f3n de m\u00e1uina *en los nodos*. Problemas de prueba con esta propiedad se construir\u00e1n con frecuencia en el tutorial de la web de FEniCS. \n",
      "\n",
      "Un programa FENICS para resolver la ecuaci\u00f3n de Poisson en 2D con las opciones dadas de $\\Omega$, $u_0$ y $f$ puede el que sigue:"
     ]
    },
    {
     "cell_type": "code",
     "collapsed": false,
     "input": [
      "\"\"\"\n",
      "FEniCS tutorial programa demo: Ecuaci\u00f3n de Poisson con condiciones Dirichlet.\n",
      "Ejemplo m\u00e1s simple de c\u00e1lculo computacinal y visulaci\u00f3n con FEniCS.\n",
      "\n",
      "-Laplace(u) = f en un cuadrado de lado unidad.\n",
      "u = u0 en el contorno.\n",
      "u0 = u = 1 + x^2 + 2y^2, f = -6.\n",
      "\"\"\"\n",
      "\n",
      "# Los comentarios en Python se establecen con almohadillas\n",
      "# esta informaci\u00f3n escrita se ignorar\u00e1 en la ejecuaci\u00f3n\n",
      "\n",
      "# Cargamos la librer\u00eda de dolfin (FEniCS)\n",
      "from dolfin import *\n",
      "\n",
      "# Creamos la malla y definimos el espacio de fnciones\n",
      "mesh = UnitSquareMesh(6, 4)\n",
      "\n",
      "V = FunctionSpace(mesh, 'Lagrange', 1)\n",
      "\n",
      "# Se definen las condiciones de contorno\n",
      "u0 = Expression('1 + x[0]*x[0] + 2*x[1]*x[1]')\n",
      "\n",
      "def u0_boundary(x, on_boundary):\n",
      "    return on_boundary\n",
      "\n",
      "bc = DirichletBC(V, u0, u0_boundary)\n",
      "\n",
      "# Se define el problema variacional\n",
      "u = TrialFunction(V)\n",
      "v = TestFunction(V)\n",
      "f = Constant(-6.0)\n",
      "a = inner(nabla_grad(u), nabla_grad(v))*dx\n",
      "L = f*v*dx\n",
      "\n",
      "# Calcula la soluci\u00f3n\n",
      "u = Function(V)\n",
      "solve(a == L, u, bc)\n",
      "\n",
      "# Representa/dibuja la soluci\u00f3n\n",
      "plot(u)\n",
      "\n",
      "# Representa/dibuja la malla\n",
      "plot(mesh)\n",
      "\n",
      "# Volcado de soluci\u00f3n a presentar en formato VTK (opcional)\n",
      "file = File('poisson.pvd')\n",
      "file << u\n",
      "\n",
      "# Mantiene la soluci\u00f3n representada y la hace interactiva\n",
      "interactive()"
     ],
     "language": "python",
     "metadata": {},
     "outputs": []
    },
    {
     "cell_type": "markdown",
     "metadata": {},
     "source": [
      "El c\u00f3digo completo se puede encontrar en el d1_p2D.py archivo en el directorio de stationary/poisson.\n",
      "Para ejecutarlo basta con escribir en la l\u00ednea de comandos\n",
      "\n",
      "        $ python run d1_p2D.py"
     ]
    },
    {
     "cell_type": "markdown",
     "metadata": {},
     "source": [
      "<img src=\"img/ex1_u.png\" />\n",
      "<img src=\"img/ex1_mesh.png\" />"
     ]
    },
    {
     "cell_type": "heading",
     "level": 2,
     "metadata": {},
     "source": [
      "Para saber m\u00e1s:"
     ]
    },
    {
     "cell_type": "markdown",
     "metadata": {},
     "source": [
      "Se recomienda seguir la lecutura del [Tutorial de FEniCS](http://fenicsproject.org/documentation/tutorial/index.html) as\u00ed como un [ejemplo de un problema real](http://fenicsproject.org/documentation/tutorial/fundamentals.html#tut-poisson-membrane)."
     ]
    }
   ],
   "metadata": {}
  }
 ]
}